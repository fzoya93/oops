{
 "cells": [
  {
   "cell_type": "code",
   "execution_count": null,
   "id": "0305c9fb-8e6a-4c26-a468-18bc6b0f8f1f",
   "metadata": {},
   "outputs": [],
   "source": [
    " OOPS Practical Assignment"
   ]
  },
  {
   "cell_type": "code",
   "execution_count": null,
   "id": "e1d5d34b-e469-4522-ba5b-48e49a6fd1f2",
   "metadata": {},
   "outputs": [],
   "source": [
    "# 1)  Create a parent class Animal with a method speak() that prints a generic message. Create a child class Dog \n",
    "that overrides the speak() method to print \"Bark!\""
   ]
  },
  {
   "cell_type": "code",
   "execution_count": 1,
   "id": "a23109d2-42f9-4cc9-b19f-31aa269c256d",
   "metadata": {},
   "outputs": [
    {
     "name": "stdout",
     "output_type": "stream",
     "text": [
      "The animal makes a sound\n",
      "Bark!\n"
     ]
    }
   ],
   "source": [
    "\n",
    "# (1)\n",
    "class Animal:\n",
    "    def speak(self):\n",
    "        print(\"The animal makes a sound\")\n",
    "\n",
    "class Dog(Animal):\n",
    "    def speak(self):\n",
    "        print(\"Bark!\")\n",
    "\n",
    "animal = Animal()\n",
    "animal.speak()  \n",
    "\n",
    "dog = Dog()\n",
    "dog.speak()     "
   ]
  },
  {
   "cell_type": "raw",
   "id": "0ca52f4a-92b9-4b74-a524-f511b4287247",
   "metadata": {},
   "source": [
    "Ques 2)  Write a program to create an abstract class Shape with a method area(). Derive classes Circle and Rectangle \n",
    "from it and implement the area() method in both."
   ]
  },
  {
   "cell_type": "code",
   "execution_count": 5,
   "id": "99c0a972-de51-4e8f-95ad-4e86d03fbac2",
   "metadata": {},
   "outputs": [
    {
     "name": "stdout",
     "output_type": "stream",
     "text": [
      "Area of Circle: 78.53981633974483\n",
      "Area of Rectangle: 24\n"
     ]
    }
   ],
   "source": [
    "\n",
    "class Shape(ABC):\n",
    "    @abstractmethod\n",
    "    def area(self):\n",
    "        pass\n",
    "\n",
    "class Circle(Shape):\n",
    "    def __init__(self, radius):\n",
    "        self.radius = radius\n",
    "\n",
    "    def area(self):\n",
    "        return math.pi * self.radius * self.radius\n",
    "\n",
    "class Rectangle(Shape):\n",
    "    def __init__(self, length, width):\n",
    "        self.length = length\n",
    "        self.width = width\n",
    "\n",
    "    def area(self):\n",
    "        return self.length * self.width\n",
    "\n",
    "circle = Circle(5)\n",
    "rectangle = Rectangle(4, 6)\n",
    "\n",
    "print(\"Area of Circle:\", circle.area())\n",
    "print(\"Area of Rectangle:\", rectangle.area())\n"
   ]
  },
  {
   "cell_type": "raw",
   "id": "1e93c827-5dbc-4540-be06-310b65824c9b",
   "metadata": {},
   "source": [
    "Ques 3) Implement a multi-level inheritance scenario where a class Vehicle has an attribute type. Derive a class Car \n",
    "and further derive a class ElectricCar that adds a battery attribute."
   ]
  },
  {
   "cell_type": "code",
   "execution_count": 6,
   "id": "ca924b60-818d-4aae-a694-4ab54a727ae0",
   "metadata": {},
   "outputs": [
    {
     "name": "stdout",
     "output_type": "stream",
     "text": [
      "Vehicle Type: Four Wheeler\n",
      "Car Brand: Tesla\n",
      "Battery Capacity: 100 kWh\n"
     ]
    }
   ],
   "source": [
    "# Base class\n",
    "class Vehicle:\n",
    "    def __init__(self, vehicle_type):\n",
    "        self.type = vehicle_type\n",
    "\n",
    "    def display_type(self):\n",
    "        print(f\"Vehicle Type: {self.type}\")\n",
    "\n",
    "# Derived class\n",
    "class Car(Vehicle):\n",
    "    def __init__(self, vehicle_type, brand):\n",
    "        super().__init__(vehicle_type)\n",
    "        self.brand = brand\n",
    "\n",
    "    def display_brand(self):\n",
    "        print(f\"Car Brand: {self.brand}\")\n",
    "\n",
    "# Further derived class\n",
    "class ElectricCar(Car):\n",
    "    def __init__(self, vehicle_type, brand, battery):\n",
    "        super().__init__(vehicle_type, brand)\n",
    "        self.battery = battery\n",
    "\n",
    "    def display_battery(self):\n",
    "        print(f\"Battery Capacity: {self.battery} kWh\")\n",
    "        \n",
    "tesla = ElectricCar(\"Four Wheeler\", \"Tesla\", 100)\n",
    "\n",
    "tesla.display_type()\n",
    "tesla.display_brand()\n",
    "tesla.display_battery()\n"
   ]
  },
  {
   "cell_type": "raw",
   "id": "978f9432-e3a8-431c-be60-0d126be22e66",
   "metadata": {},
   "source": [
    "Ques 4). Demonstrate polymorphism by creating a base class Bird with a method fly(). Create two derived classes \n",
    "Sparrow and Penguin that override the fly() method."
   ]
  },
  {
   "cell_type": "code",
   "execution_count": 7,
   "id": "9601ece8-4ad1-46b4-b2d6-b849716e1c93",
   "metadata": {},
   "outputs": [
    {
     "name": "stdout",
     "output_type": "stream",
     "text": [
      "Sparrow flies high in the sky!\n",
      "Penguins cannot fly, they swim instead.\n"
     ]
    }
   ],
   "source": [
    "# Base class\n",
    "class Bird:\n",
    "    def fly(self):\n",
    "        print(\"Bird is flying...\")\n",
    "\n",
    "# Derived class 1\n",
    "class Sparrow(Bird):\n",
    "    def fly(self):\n",
    "        print(\"Sparrow flies high in the sky!\")\n",
    "\n",
    "# Derived class 2\n",
    "class Penguin(Bird):\n",
    "    def fly(self):\n",
    "        print(\"Penguins cannot fly, they swim instead.\")\n",
    "\n",
    "def show_flight(bird):\n",
    "    bird.fly()\n",
    "\n",
    "# Create objects\n",
    "sparrow = Sparrow()\n",
    "penguin = Penguin()\n",
    "\n",
    "show_flight(sparrow)\n",
    "show_flight(penguin)\n"
   ]
  },
  {
   "cell_type": "raw",
   "id": "faa544c4-3160-48f6-95d1-24e059887897",
   "metadata": {},
   "source": [
    "Ques 5).Write a program to demonstrate encapsulation by creating a class BankAccount with private attributes \n",
    "balance and methods to deposit, withdraw, and check balance."
   ]
  },
  {
   "cell_type": "code",
   "execution_count": 8,
   "id": "30746c47-78c2-4978-bfbd-aa3349484be3",
   "metadata": {},
   "outputs": [
    {
     "name": "stdout",
     "output_type": "stream",
     "text": [
      "Current Balance: ₹1000\n",
      "Deposited: ₹500\n",
      "Current Balance: ₹1500\n",
      "Withdrew: ₹300\n",
      "Current Balance: ₹1200\n"
     ]
    }
   ],
   "source": [
    "class BankAccount:\n",
    "    def __init__(self, initial_balance=0):\n",
    "        self.__balance = initial_balance  \n",
    "\n",
    "    def deposit(self, amount):\n",
    "        if amount > 0:\n",
    "            self.__balance += amount\n",
    "            print(f\"Deposited: ₹{amount}\")\n",
    "        else:\n",
    "            print(\"Deposit amount must be positive.\")\n",
    "\n",
    "    def withdraw(self, amount):\n",
    "        if amount > 0 and amount <= self.__balance:\n",
    "            self.__balance -= amount\n",
    "            print(f\"Withdrew: ₹{amount}\")\n",
    "        else:\n",
    "            print(\"Insufficient balance or invalid amount.\")\n",
    "\n",
    "    def check_balance(self):\n",
    "        print(f\"Current Balance: ₹{self.__balance}\")\n",
    "\n",
    "account = BankAccount(1000)\n",
    "account.check_balance()\n",
    "\n",
    "account.deposit(500)\n",
    "account.check_balance()\n",
    "\n",
    "account.withdraw(300)\n",
    "account.check_balance()\n",
    "\n",
    "# Trying to access private attribute directly (not recommended)\n",
    "# print(account.__balance)  # This will raise an AttributeError\n"
   ]
  },
  {
   "cell_type": "raw",
   "id": "2c4e1b66-6a1a-4718-a4b7-f2e162ec6223",
   "metadata": {},
   "source": [
    "Ques 6) Demonstrate runtime polymorphism using a method play() in a base class Instrument. Derive classes Guitar \n",
    "and Piano that implement their own version of play()."
   ]
  },
  {
   "cell_type": "code",
   "execution_count": 9,
   "id": "cb0baf9c-fc78-44ef-8b34-d0f186461878",
   "metadata": {},
   "outputs": [
    {
     "name": "stdout",
     "output_type": "stream",
     "text": [
      "Strumming the guitar!\n",
      "Playing the piano keys!\n"
     ]
    }
   ],
   "source": [
    "# Base class\n",
    "class Instrument:\n",
    "    def play(self):\n",
    "        print(\"Playing some instrument...\")\n",
    "\n",
    "# Derived class 1\n",
    "class Guitar(Instrument):\n",
    "    def play(self):\n",
    "        print(\"Strumming the guitar!\")\n",
    "\n",
    "# Derived class 2\n",
    "class Piano(Instrument):\n",
    "    def play(self):\n",
    "        print(\"Playing the piano keys!\")\n",
    "\n",
    "def start_playing(instrument):\n",
    "    instrument.play()\n",
    "\n",
    "# Create objects\n",
    "guitar = Guitar()\n",
    "piano = Piano()\n",
    "\n",
    "start_playing(guitar)\n",
    "start_playing(piano)\n"
   ]
  },
  {
   "cell_type": "raw",
   "id": "7a61bafc-35a9-410f-b359-82dcd8f44a7b",
   "metadata": {},
   "source": [
    "Ques 7) Create a class MathOperations with a class method add_numbers() to add two numbers and a static \n",
    "method subtract_numbers() to subtract two numbers."
   ]
  },
  {
   "cell_type": "code",
   "execution_count": 10,
   "id": "97b7bb4c-e678-4037-aef1-bea5a1db5840",
   "metadata": {},
   "outputs": [
    {
     "name": "stdout",
     "output_type": "stream",
     "text": [
      "Sum: 15\n",
      "Difference: 5\n"
     ]
    }
   ],
   "source": [
    "class MathOperations:\n",
    "    @classmethod\n",
    "    def add_numbers(cls, a, b):\n",
    "        return a + b\n",
    "\n",
    "    @staticmethod\n",
    "    def subtract_numbers(a, b):\n",
    "        return a - b\n",
    "\n",
    "sum_result = MathOperations.add_numbers(10, 5)\n",
    "print(f\"Sum: {sum_result}\")\n",
    "\n",
    "difference = MathOperations.subtract_numbers(10, 5)\n",
    "print(f\"Difference: {difference}\")\n"
   ]
  },
  {
   "cell_type": "raw",
   "id": "da68471d-37a2-4e5b-8d38-28643496463e",
   "metadata": {},
   "source": [
    "Ques 8). Implement a class Person with a class method to count the total number of persons created."
   ]
  },
  {
   "cell_type": "code",
   "execution_count": 11,
   "id": "362c51b7-42aa-42e6-9ffe-9ccd9e29c458",
   "metadata": {},
   "outputs": [
    {
     "name": "stdout",
     "output_type": "stream",
     "text": [
      "Total persons created: 3\n"
     ]
    }
   ],
   "source": [
    "class Person:\n",
    "    count = 0 \n",
    "    def __init__(self, name):\n",
    "        self.name = name\n",
    "        Person.count += 1  \n",
    "    @classmethod\n",
    "    def total_persons(cls):\n",
    "        print(f\"Total persons created: {cls.count}\")\n",
    "\n",
    "# Creating Person objects\n",
    "p1 = Person(\"Alice\")\n",
    "p2 = Person(\"Bob\")\n",
    "p3 = Person(\"Charlie\")\n",
    "\n",
    "# Calling class method to display total count\n",
    "Person.total_persons()\n"
   ]
  },
  {
   "cell_type": "raw",
   "id": "a84a0b59-f461-4c9d-baa7-a33d770172f7",
   "metadata": {},
   "source": [
    "Ques 9)  Write a class Fraction with attributes numerator and denominator. Override the str method to display the \n",
    "fraction as \"numerator/denominator\"."
   ]
  },
  {
   "cell_type": "code",
   "execution_count": 12,
   "id": "7e109311-6d95-4f55-a695-528a9a5a3153",
   "metadata": {},
   "outputs": [
    {
     "name": "stdout",
     "output_type": "stream",
     "text": [
      "3/4\n",
      "7/2\n"
     ]
    }
   ],
   "source": [
    "class Fraction:\n",
    "    def __init__(self, numerator, denominator):\n",
    "        self.numerator = numerator\n",
    "        self.denominator = denominator\n",
    "\n",
    "    def __str__(self):\n",
    "        return f\"{self.numerator}/{self.denominator}\"\n",
    "\n",
    "f1 = Fraction(3, 4)\n",
    "f2 = Fraction(7, 2)\n",
    "\n",
    "# Printing the fractions\n",
    "print(f1)  # Output: 3/4\n",
    "print(f2)  # Output: 7/2\n"
   ]
  },
  {
   "cell_type": "raw",
   "id": "0f0f9ec1-32e5-48df-b97d-3a25156acc57",
   "metadata": {},
   "source": [
    "Ques 10) Demonstrate operator overloading by creating a class Vector and overriding the add method to add two \n",
    "vectors."
   ]
  },
  {
   "cell_type": "code",
   "execution_count": 13,
   "id": "5427070c-950e-496e-b15c-28fe35d312b7",
   "metadata": {},
   "outputs": [
    {
     "name": "stdout",
     "output_type": "stream",
     "text": [
      "Vector 1: (2, 3)\n",
      "Vector 2: (4, 5)\n",
      "Sum of Vectors: (6, 8)\n"
     ]
    }
   ],
   "source": [
    "class Vector:\n",
    "    def __init__(self, x, y):\n",
    "        self.x = x\n",
    "        self.y = y\n",
    "\n",
    "    def __add__(self, other):\n",
    "        return Vector(self.x + other.x, self.y + other.y)\n",
    "\n",
    "    def __str__(self):\n",
    "        return f\"({self.x}, {self.y})\"\n",
    "\n",
    "# Create two Vector objects\n",
    "v1 = Vector(2, 3)\n",
    "v2 = Vector(4, 5)\n",
    "\n",
    "# Add the vectors using the overloaded + operator\n",
    "v3 = v1 + v2\n",
    "\n",
    "# Print the result\n",
    "print(\"Vector 1:\", v1)\n",
    "print(\"Vector 2:\", v2)\n",
    "print(\"Sum of Vectors:\", v3)\n"
   ]
  },
  {
   "cell_type": "raw",
   "id": "b1ec3b46-186c-4cbf-ab1a-ed01198c8f1a",
   "metadata": {},
   "source": [
    "Ques 11)Create a class Person with attributes name and age. Add a method greet() that prints \"Hello, my name is \n",
    "{name} and I am {age} years old\"."
   ]
  },
  {
   "cell_type": "code",
   "execution_count": 14,
   "id": "55c533af-9abc-48f4-b394-e504f80747dd",
   "metadata": {},
   "outputs": [
    {
     "name": "stdout",
     "output_type": "stream",
     "text": [
      "Hello, my name is Alice and I am 25 years old.\n"
     ]
    }
   ],
   "source": [
    "class Person:\n",
    "    def __init__(self, name, age):\n",
    "        self.name = name\n",
    "        self.age = age\n",
    "\n",
    "    def greet(self):\n",
    "        print(f\"Hello, my name is {self.name} and I am {self.age} years old.\")\n",
    "\n",
    "# Creating a Person object\n",
    "p1 = Person(\"Alice\", 25)\n",
    "\n",
    "# Calling the greet method\n",
    "p1.greet()\n"
   ]
  },
  {
   "cell_type": "raw",
   "id": "c9b26024-437c-4596-a376-05f340287f2d",
   "metadata": {},
   "source": [
    "Ques 12) Implement a class Student with attributes name and grades. Create a method average_grade() to compute \n",
    "the average of the grades."
   ]
  },
  {
   "cell_type": "code",
   "execution_count": 15,
   "id": "bcc72897-78f6-4fa5-bf5d-7e5ff26cbb3b",
   "metadata": {},
   "outputs": [
    {
     "name": "stdout",
     "output_type": "stream",
     "text": [
      "Student Name: Rahul\n",
      "Average Grade: 86.25\n"
     ]
    }
   ],
   "source": [
    "class Student:\n",
    "    def __init__(self, name, grades):\n",
    "        self.name = name\n",
    "        self.grades = grades  \n",
    "    def average_grade(self):\n",
    "        if len(self.grades) == 0:\n",
    "            return 0\n",
    "        return sum(self.grades) / len(self.grades)\n",
    "\n",
    "# Creating a Student object\n",
    "s1 = Student(\"Rahul\", [85, 90, 78, 92])\n",
    "\n",
    "# Printing the average grade\n",
    "print(f\"Student Name: {s1.name}\")\n",
    "print(f\"Average Grade: {s1.average_grade():.2f}\")\n"
   ]
  },
  {
   "cell_type": "raw",
   "id": "97faa78c-8d0d-4d87-b972-48ef3ab28631",
   "metadata": {},
   "source": [
    "Ques 13) Create a class Rectangle with methods set_dimensions() to set the dimensions and area() to calculate the \n",
    "area."
   ]
  },
  {
   "cell_type": "code",
   "execution_count": 16,
   "id": "3d5d7f1b-38db-4a72-9294-8961f53fccd2",
   "metadata": {},
   "outputs": [
    {
     "name": "stdout",
     "output_type": "stream",
     "text": [
      "Area of Rectangle: 50\n"
     ]
    }
   ],
   "source": [
    "class Rectangle:\n",
    "    def __init__(self):\n",
    "        self.length = 0\n",
    "        self.width = 0\n",
    "\n",
    "    def set_dimensions(self, length, width):\n",
    "        self.length = length\n",
    "        self.width = width\n",
    "\n",
    "    def area(self):\n",
    "        return self.length * self.width\n",
    "\n",
    "\n",
    "rect = Rectangle()\n",
    "\n",
    "rect.set_dimensions(10, 5)\n",
    "\n",
    "# Calculating and printing area\n",
    "print(f\"Area of Rectangle: {rect.area()}\")\n"
   ]
  },
  {
   "cell_type": "raw",
   "id": "c4514082-3cfc-4a34-99c6-7ec022d21364",
   "metadata": {},
   "source": [
    "Ques 14) Create a class Employee with a method calculate_salary() that computes the salary based on hours worked \n",
    "and hourly rate. Create a derived class Manager that adds a bonus to the salary."
   ]
  },
  {
   "cell_type": "code",
   "execution_count": 19,
   "id": "1fa72d1e-c106-42b7-b0a6-bfad4fd2a981",
   "metadata": {},
   "outputs": [
    {
     "name": "stdout",
     "output_type": "stream",
     "text": [
      "Employee Salary for Amit: ₹8000\n",
      "Manager Salary for Nina: ₹15000\n"
     ]
    }
   ],
   "source": [
    "# Base class\n",
    "class Employee:\n",
    "    def __init__(self, name, hours_worked, hourly_rate):\n",
    "        self.name = name\n",
    "        self.hours_worked = hours_worked\n",
    "        self.hourly_rate = hourly_rate\n",
    "\n",
    "    def calculate_salary(self):\n",
    "        return self.hours_worked * self.hourly_rate\n",
    "\n",
    "# Derived class\n",
    "class Manager(Employee):\n",
    "    def __init__(self, name, hours_worked, hourly_rate, bonus):\n",
    "        super().__init__(name, hours_worked, hourly_rate)\n",
    "        self.bonus = bonus\n",
    "\n",
    "    def calculate_salary(self):\n",
    "        base_salary = super().calculate_salary()\n",
    "        return base_salary + self.bonus\n",
    "\n",
    "# Creating Employee object\n",
    "emp = Employee(\"Amit\", 40, 200)\n",
    "print(f\"Employee Salary for {emp.name}: ₹{emp.calculate_salary()}\")\n",
    "\n",
    "# Creating Manager object\n",
    "mgr = Manager(\"Nina\", 40, 250, 5000)\n",
    "print(f\"Manager Salary for {mgr.name}: ₹{mgr.calculate_salary()}\")\n"
   ]
  },
  {
   "cell_type": "raw",
   "id": "e611c257-0946-4b33-8a85-d52dfd6d036c",
   "metadata": {},
   "source": [
    "Ques 15). Create a class Product with attributes name, price, and quantity. Implement a method total_price() that \n",
    "calculates the total price of the product."
   ]
  },
  {
   "cell_type": "code",
   "execution_count": 20,
   "id": "4c43e224-d260-4829-ba93-fed3fa4df243",
   "metadata": {},
   "outputs": [
    {
     "name": "stdout",
     "output_type": "stream",
     "text": [
      "Product Name: Laptop\n",
      "Unit Price: ₹55000\n",
      "Quantity: 2\n",
      "Total Price: ₹110000\n"
     ]
    }
   ],
   "source": [
    "class Product:\n",
    "    def __init__(self, name, price, quantity):\n",
    "        self.name = name\n",
    "        self.price = price\n",
    "        self.quantity = quantity\n",
    "\n",
    "    def total_price(self):\n",
    "        return self.price * self.quantity\n",
    "\n",
    "# Create a Product object\n",
    "product1 = Product(\"Laptop\", 55000, 2)\n",
    "\n",
    "print(f\"Product Name: {product1.name}\")\n",
    "print(f\"Unit Price: ₹{product1.price}\")\n",
    "print(f\"Quantity: {product1.quantity}\")\n",
    "print(f\"Total Price: ₹{product1.total_price()}\")\n"
   ]
  },
  {
   "cell_type": "raw",
   "id": "e512d892-1a77-4868-9e78-e0b9cd388f53",
   "metadata": {},
   "source": [
    "Ques 16) Create a class Animal with an abstract method sound(). Create two derived classes Cow and Sheep that \n",
    "implement the sound() method."
   ]
  },
  {
   "cell_type": "code",
   "execution_count": 21,
   "id": "3784f08e-0c32-4436-a760-ab30c62b271d",
   "metadata": {},
   "outputs": [
    {
     "name": "stdout",
     "output_type": "stream",
     "text": [
      "Cow says: Moo\n",
      "Sheep says: Baa\n"
     ]
    }
   ],
   "source": [
    "\n",
    "class Animal(ABC):\n",
    "    @abstractmethod\n",
    "    def sound(self):\n",
    "        pass\n",
    "\n",
    "# Derived class 1\n",
    "class Cow(Animal):\n",
    "    def sound(self):\n",
    "        print(\"Cow says: Moo\")\n",
    "\n",
    "# Derived class 2\n",
    "class Sheep(Animal):\n",
    "    def sound(self):\n",
    "        print(\"Sheep says: Baa\")\n",
    "\n",
    "# Create objects and call sound()\n",
    "cow = Cow()\n",
    "sheep = Sheep()\n",
    "\n",
    "cow.sound()\n",
    "sheep.sound()\n"
   ]
  },
  {
   "cell_type": "raw",
   "id": "73e48651-f974-4a45-8789-e877dd79843f",
   "metadata": {},
   "source": [
    "Ques 17) Create a class Book with attributes title, author, and year_published. Add a method get_book_info() that \n",
    "returns a formatted string with the book's details."
   ]
  },
  {
   "cell_type": "code",
   "execution_count": 22,
   "id": "33a2c81a-1e22-4fff-b5e4-e585cda0b38f",
   "metadata": {},
   "outputs": [
    {
     "name": "stdout",
     "output_type": "stream",
     "text": [
      "'To Kill a Mockingbird' by Harper Lee (Published in 1960)\n"
     ]
    }
   ],
   "source": [
    "class Book:\n",
    "    def __init__(self, title, author, year_published):\n",
    "        self.title = title\n",
    "        self.author = author\n",
    "        self.year_published = year_published\n",
    "\n",
    "    def get_book_info(self):\n",
    "        return f\"'{self.title}' by {self.author} (Published in {self.year_published})\"\n",
    "\n",
    "# Create a Book object\n",
    "book1 = Book(\"To Kill a Mockingbird\", \"Harper Lee\", 1960)\n",
    "\n",
    "# Print book information\n",
    "print(book1.get_book_info())\n"
   ]
  },
  {
   "cell_type": "raw",
   "id": "79669166-b469-47dc-bc89-9f95c0a40f7d",
   "metadata": {},
   "source": [
    "Ques 18) Create a class House with attributes address and price. Create a derived class Mansion that adds an \n",
    "attribute number_of_rooms."
   ]
  },
  {
   "cell_type": "code",
   "execution_count": 23,
   "id": "e3d3de3e-0d68-4e7e-8f88-bdd30c73f96a",
   "metadata": {},
   "outputs": [
    {
     "name": "stdout",
     "output_type": "stream",
     "text": [
      "Address: Beverly Hills, CA\n",
      "Price: ₹50000000\n",
      "Number of Rooms: 15\n"
     ]
    }
   ],
   "source": [
    "\n",
    "class House:\n",
    "    def __init__(self, address, price):\n",
    "        self.address = address\n",
    "        self.price = price\n",
    "\n",
    "    def display_info(self):\n",
    "        print(f\"Address: {self.address}\")\n",
    "        print(f\"Price: ₹{self.price}\")\n",
    "\n",
    "# Derived class\n",
    "class Mansion(House):\n",
    "    def __init__(self, address, price, number_of_rooms):\n",
    "        super().__init__(address, price)\n",
    "        self.number_of_rooms = number_of_rooms\n",
    "\n",
    "    def display_info(self):\n",
    "        super().display_info()\n",
    "        print(f\"Number of Rooms: {self.number_of_rooms}\")\n",
    "\n",
    "# Create a Mansion object\n",
    "mansion1 = Mansion(\"Beverly Hills, CA\", 50000000, 15)\n",
    "\n",
    "# Display mansion details\n",
    "mansion1.display_info()\n"
   ]
  },
  {
   "cell_type": "code",
   "execution_count": null,
   "id": "5dba9d7b-44f9-4f6c-a423-fab4b6dd1b89",
   "metadata": {},
   "outputs": [],
   "source": []
  }
 ],
 "metadata": {
  "kernelspec": {
   "display_name": "Python 3 (ipykernel)",
   "language": "python",
   "name": "python3"
  },
  "language_info": {
   "codemirror_mode": {
    "name": "ipython",
    "version": 3
   },
   "file_extension": ".py",
   "mimetype": "text/x-python",
   "name": "python",
   "nbconvert_exporter": "python",
   "pygments_lexer": "ipython3",
   "version": "3.12.7"
  }
 },
 "nbformat": 4,
 "nbformat_minor": 5
}
